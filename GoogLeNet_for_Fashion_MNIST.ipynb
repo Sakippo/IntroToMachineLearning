{
  "nbformat": 4,
  "nbformat_minor": 0,
  "metadata": {
    "colab": {
      "provenance": [],
      "include_colab_link": true
    },
    "kernelspec": {
      "name": "python3",
      "display_name": "Python 3"
    },
    "language_info": {
      "name": "python"
    },
    "accelerator": "GPU"
  },
  "cells": [
    {
      "cell_type": "markdown",
      "metadata": {
        "id": "view-in-github",
        "colab_type": "text"
      },
      "source": [
        "<a href=\"https://colab.research.google.com/github/Sakippo/IntroToMachineLearning/blob/main/GoogLeNet_for_Fashion_MNIST.ipynb\" target=\"_parent\"><img src=\"https://colab.research.google.com/assets/colab-badge.svg\" alt=\"Open In Colab\"/></a>"
      ]
    },
    {
      "cell_type": "markdown",
      "metadata": {
        "id": "L3IxxnGV8gJD"
      },
      "source": [
        "# 準備\n",
        "必要パッケージのインストール"
      ]
    },
    {
      "cell_type": "code",
      "metadata": {
        "colab": {
          "base_uri": "https://localhost:8080/"
        },
        "id": "P8y5Rfh_Cf7t",
        "outputId": "809839ba-ea06-4fde-b153-4d7840cf56da"
      },
      "source": [
        "! pip install torchinfo\n",
        "!pip install d2l==0.17.2"
      ],
      "execution_count": null,
      "outputs": [
        {
          "output_type": "stream",
          "name": "stdout",
          "text": [
            "Requirement already satisfied: torchinfo in /usr/local/lib/python3.7/dist-packages (1.6.3)\n",
            "Requirement already satisfied: d2l==0.17.2 in /usr/local/lib/python3.7/dist-packages (0.17.2)\n",
            "Requirement already satisfied: numpy==1.18.5 in /usr/local/lib/python3.7/dist-packages (from d2l==0.17.2) (1.18.5)\n",
            "Requirement already satisfied: pandas==1.2.2 in /usr/local/lib/python3.7/dist-packages (from d2l==0.17.2) (1.2.2)\n",
            "Requirement already satisfied: matplotlib==3.3.3 in /usr/local/lib/python3.7/dist-packages (from d2l==0.17.2) (3.3.3)\n",
            "Requirement already satisfied: jupyter==1.0.0 in /usr/local/lib/python3.7/dist-packages (from d2l==0.17.2) (1.0.0)\n",
            "Requirement already satisfied: requests==2.25.1 in /usr/local/lib/python3.7/dist-packages (from d2l==0.17.2) (2.25.1)\n",
            "Requirement already satisfied: ipywidgets in /usr/local/lib/python3.7/dist-packages (from jupyter==1.0.0->d2l==0.17.2) (7.6.5)\n",
            "Requirement already satisfied: notebook in /usr/local/lib/python3.7/dist-packages (from jupyter==1.0.0->d2l==0.17.2) (5.3.1)\n",
            "Requirement already satisfied: nbconvert in /usr/local/lib/python3.7/dist-packages (from jupyter==1.0.0->d2l==0.17.2) (5.6.1)\n",
            "Requirement already satisfied: jupyter-console in /usr/local/lib/python3.7/dist-packages (from jupyter==1.0.0->d2l==0.17.2) (5.2.0)\n",
            "Requirement already satisfied: ipykernel in /usr/local/lib/python3.7/dist-packages (from jupyter==1.0.0->d2l==0.17.2) (4.10.1)\n",
            "Requirement already satisfied: qtconsole in /usr/local/lib/python3.7/dist-packages (from jupyter==1.0.0->d2l==0.17.2) (5.2.2)\n",
            "Requirement already satisfied: pillow>=6.2.0 in /usr/local/lib/python3.7/dist-packages (from matplotlib==3.3.3->d2l==0.17.2) (7.1.2)\n",
            "Requirement already satisfied: python-dateutil>=2.1 in /usr/local/lib/python3.7/dist-packages (from matplotlib==3.3.3->d2l==0.17.2) (2.8.2)\n",
            "Requirement already satisfied: cycler>=0.10 in /usr/local/lib/python3.7/dist-packages (from matplotlib==3.3.3->d2l==0.17.2) (0.11.0)\n",
            "Requirement already satisfied: kiwisolver>=1.0.1 in /usr/local/lib/python3.7/dist-packages (from matplotlib==3.3.3->d2l==0.17.2) (1.3.2)\n",
            "Requirement already satisfied: pyparsing!=2.0.4,!=2.1.2,!=2.1.6,>=2.0.3 in /usr/local/lib/python3.7/dist-packages (from matplotlib==3.3.3->d2l==0.17.2) (3.0.7)\n",
            "Requirement already satisfied: pytz>=2017.3 in /usr/local/lib/python3.7/dist-packages (from pandas==1.2.2->d2l==0.17.2) (2018.9)\n",
            "Requirement already satisfied: urllib3<1.27,>=1.21.1 in /usr/local/lib/python3.7/dist-packages (from requests==2.25.1->d2l==0.17.2) (1.24.3)\n",
            "Requirement already satisfied: certifi>=2017.4.17 in /usr/local/lib/python3.7/dist-packages (from requests==2.25.1->d2l==0.17.2) (2021.10.8)\n",
            "Requirement already satisfied: idna<3,>=2.5 in /usr/local/lib/python3.7/dist-packages (from requests==2.25.1->d2l==0.17.2) (2.10)\n",
            "Requirement already satisfied: chardet<5,>=3.0.2 in /usr/local/lib/python3.7/dist-packages (from requests==2.25.1->d2l==0.17.2) (3.0.4)\n",
            "Requirement already satisfied: six>=1.5 in /usr/local/lib/python3.7/dist-packages (from python-dateutil>=2.1->matplotlib==3.3.3->d2l==0.17.2) (1.15.0)\n",
            "Requirement already satisfied: ipython>=4.0.0 in /usr/local/lib/python3.7/dist-packages (from ipykernel->jupyter==1.0.0->d2l==0.17.2) (5.5.0)\n",
            "Requirement already satisfied: tornado>=4.0 in /usr/local/lib/python3.7/dist-packages (from ipykernel->jupyter==1.0.0->d2l==0.17.2) (5.1.1)\n",
            "Requirement already satisfied: traitlets>=4.1.0 in /usr/local/lib/python3.7/dist-packages (from ipykernel->jupyter==1.0.0->d2l==0.17.2) (5.1.1)\n",
            "Requirement already satisfied: jupyter-client in /usr/local/lib/python3.7/dist-packages (from ipykernel->jupyter==1.0.0->d2l==0.17.2) (5.3.5)\n",
            "Requirement already satisfied: setuptools>=18.5 in /usr/local/lib/python3.7/dist-packages (from ipython>=4.0.0->ipykernel->jupyter==1.0.0->d2l==0.17.2) (57.4.0)\n",
            "Requirement already satisfied: decorator in /usr/local/lib/python3.7/dist-packages (from ipython>=4.0.0->ipykernel->jupyter==1.0.0->d2l==0.17.2) (4.4.2)\n",
            "Requirement already satisfied: pickleshare in /usr/local/lib/python3.7/dist-packages (from ipython>=4.0.0->ipykernel->jupyter==1.0.0->d2l==0.17.2) (0.7.5)\n",
            "Requirement already satisfied: simplegeneric>0.8 in /usr/local/lib/python3.7/dist-packages (from ipython>=4.0.0->ipykernel->jupyter==1.0.0->d2l==0.17.2) (0.8.1)\n",
            "Requirement already satisfied: pygments in /usr/local/lib/python3.7/dist-packages (from ipython>=4.0.0->ipykernel->jupyter==1.0.0->d2l==0.17.2) (2.6.1)\n",
            "Requirement already satisfied: pexpect in /usr/local/lib/python3.7/dist-packages (from ipython>=4.0.0->ipykernel->jupyter==1.0.0->d2l==0.17.2) (4.8.0)\n",
            "Requirement already satisfied: prompt-toolkit<2.0.0,>=1.0.4 in /usr/local/lib/python3.7/dist-packages (from ipython>=4.0.0->ipykernel->jupyter==1.0.0->d2l==0.17.2) (1.0.18)\n",
            "Requirement already satisfied: wcwidth in /usr/local/lib/python3.7/dist-packages (from prompt-toolkit<2.0.0,>=1.0.4->ipython>=4.0.0->ipykernel->jupyter==1.0.0->d2l==0.17.2) (0.2.5)\n",
            "Requirement already satisfied: ipython-genutils~=0.2.0 in /usr/local/lib/python3.7/dist-packages (from ipywidgets->jupyter==1.0.0->d2l==0.17.2) (0.2.0)\n",
            "Requirement already satisfied: jupyterlab-widgets>=1.0.0 in /usr/local/lib/python3.7/dist-packages (from ipywidgets->jupyter==1.0.0->d2l==0.17.2) (1.0.2)\n",
            "Requirement already satisfied: nbformat>=4.2.0 in /usr/local/lib/python3.7/dist-packages (from ipywidgets->jupyter==1.0.0->d2l==0.17.2) (5.1.3)\n",
            "Requirement already satisfied: widgetsnbextension~=3.5.0 in /usr/local/lib/python3.7/dist-packages (from ipywidgets->jupyter==1.0.0->d2l==0.17.2) (3.5.2)\n",
            "Requirement already satisfied: jupyter-core in /usr/local/lib/python3.7/dist-packages (from nbformat>=4.2.0->ipywidgets->jupyter==1.0.0->d2l==0.17.2) (4.9.1)\n",
            "Requirement already satisfied: jsonschema!=2.5.0,>=2.4 in /usr/local/lib/python3.7/dist-packages (from nbformat>=4.2.0->ipywidgets->jupyter==1.0.0->d2l==0.17.2) (4.3.3)\n",
            "Requirement already satisfied: importlib-resources>=1.4.0 in /usr/local/lib/python3.7/dist-packages (from jsonschema!=2.5.0,>=2.4->nbformat>=4.2.0->ipywidgets->jupyter==1.0.0->d2l==0.17.2) (5.4.0)\n",
            "Requirement already satisfied: pyrsistent!=0.17.0,!=0.17.1,!=0.17.2,>=0.14.0 in /usr/local/lib/python3.7/dist-packages (from jsonschema!=2.5.0,>=2.4->nbformat>=4.2.0->ipywidgets->jupyter==1.0.0->d2l==0.17.2) (0.18.1)\n",
            "Requirement already satisfied: typing-extensions in /usr/local/lib/python3.7/dist-packages (from jsonschema!=2.5.0,>=2.4->nbformat>=4.2.0->ipywidgets->jupyter==1.0.0->d2l==0.17.2) (3.10.0.2)\n",
            "Requirement already satisfied: attrs>=17.4.0 in /usr/local/lib/python3.7/dist-packages (from jsonschema!=2.5.0,>=2.4->nbformat>=4.2.0->ipywidgets->jupyter==1.0.0->d2l==0.17.2) (21.4.0)\n",
            "Requirement already satisfied: importlib-metadata in /usr/local/lib/python3.7/dist-packages (from jsonschema!=2.5.0,>=2.4->nbformat>=4.2.0->ipywidgets->jupyter==1.0.0->d2l==0.17.2) (4.10.1)\n",
            "Requirement already satisfied: zipp>=3.1.0 in /usr/local/lib/python3.7/dist-packages (from importlib-resources>=1.4.0->jsonschema!=2.5.0,>=2.4->nbformat>=4.2.0->ipywidgets->jupyter==1.0.0->d2l==0.17.2) (3.7.0)\n",
            "Requirement already satisfied: jinja2 in /usr/local/lib/python3.7/dist-packages (from notebook->jupyter==1.0.0->d2l==0.17.2) (2.11.3)\n",
            "Requirement already satisfied: Send2Trash in /usr/local/lib/python3.7/dist-packages (from notebook->jupyter==1.0.0->d2l==0.17.2) (1.8.0)\n",
            "Requirement already satisfied: terminado>=0.8.1 in /usr/local/lib/python3.7/dist-packages (from notebook->jupyter==1.0.0->d2l==0.17.2) (0.13.1)\n",
            "Requirement already satisfied: pyzmq>=13 in /usr/local/lib/python3.7/dist-packages (from jupyter-client->ipykernel->jupyter==1.0.0->d2l==0.17.2) (22.3.0)\n",
            "Requirement already satisfied: ptyprocess in /usr/local/lib/python3.7/dist-packages (from terminado>=0.8.1->notebook->jupyter==1.0.0->d2l==0.17.2) (0.7.0)\n",
            "Requirement already satisfied: MarkupSafe>=0.23 in /usr/local/lib/python3.7/dist-packages (from jinja2->notebook->jupyter==1.0.0->d2l==0.17.2) (2.0.1)\n",
            "Requirement already satisfied: testpath in /usr/local/lib/python3.7/dist-packages (from nbconvert->jupyter==1.0.0->d2l==0.17.2) (0.5.0)\n",
            "Requirement already satisfied: bleach in /usr/local/lib/python3.7/dist-packages (from nbconvert->jupyter==1.0.0->d2l==0.17.2) (4.1.0)\n",
            "Requirement already satisfied: mistune<2,>=0.8.1 in /usr/local/lib/python3.7/dist-packages (from nbconvert->jupyter==1.0.0->d2l==0.17.2) (0.8.4)\n",
            "Requirement already satisfied: entrypoints>=0.2.2 in /usr/local/lib/python3.7/dist-packages (from nbconvert->jupyter==1.0.0->d2l==0.17.2) (0.3)\n",
            "Requirement already satisfied: pandocfilters>=1.4.1 in /usr/local/lib/python3.7/dist-packages (from nbconvert->jupyter==1.0.0->d2l==0.17.2) (1.5.0)\n",
            "Requirement already satisfied: defusedxml in /usr/local/lib/python3.7/dist-packages (from nbconvert->jupyter==1.0.0->d2l==0.17.2) (0.7.1)\n",
            "Requirement already satisfied: packaging in /usr/local/lib/python3.7/dist-packages (from bleach->nbconvert->jupyter==1.0.0->d2l==0.17.2) (21.3)\n",
            "Requirement already satisfied: webencodings in /usr/local/lib/python3.7/dist-packages (from bleach->nbconvert->jupyter==1.0.0->d2l==0.17.2) (0.5.1)\n",
            "Requirement already satisfied: qtpy in /usr/local/lib/python3.7/dist-packages (from qtconsole->jupyter==1.0.0->d2l==0.17.2) (2.0.0)\n"
          ]
        }
      ]
    },
    {
      "cell_type": "code",
      "metadata": {
        "id": "VakhRilm8j-4"
      },
      "source": [
        "import torch\n",
        "import torch.nn as nn\n",
        "import torch.nn.functional as F\n",
        "from torchvision import datasets, transforms\n",
        "from torchinfo import summary\n",
        "from torch import Tensor\n",
        "from typing import Optional, Tuple, List, Callable, Any\n",
        "from d2l import torch as d2l"
      ],
      "execution_count": null,
      "outputs": []
    },
    {
      "cell_type": "markdown",
      "metadata": {
        "id": "O4xbTP-38xo-"
      },
      "source": [
        "# Fashion MNISTデータセットのダウンロード"
      ]
    },
    {
      "cell_type": "code",
      "metadata": {
        "id": "ljh1vhbU8vZ1",
        "colab": {
          "base_uri": "https://localhost:8080/"
        },
        "outputId": "ec401e16-513c-44aa-e272-df11d1da164e"
      },
      "source": [
        "train_loader, test_loader = d2l.load_data_fashion_mnist(256, (56, 56))"
      ],
      "execution_count": null,
      "outputs": [
        {
          "output_type": "stream",
          "name": "stderr",
          "text": [
            "/usr/local/lib/python3.7/dist-packages/torch/utils/data/dataloader.py:481: UserWarning: This DataLoader will create 4 worker processes in total. Our suggested max number of worker in current system is 2, which is smaller than what this DataLoader is going to create. Please be aware that excessive worker creation might get DataLoader running slow or even freeze, lower the worker number to avoid potential slowness/freeze if necessary.\n",
            "  cpuset_checked))\n"
          ]
        }
      ]
    },
    {
      "cell_type": "markdown",
      "metadata": {
        "id": "nop6faak9NTn"
      },
      "source": [
        "# モデルの定義\n",
        "\n",
        "\n"
      ]
    },
    {
      "cell_type": "markdown",
      "source": [
        "Inception Module"
      ],
      "metadata": {
        "id": "MCniQrrWbdEK"
      }
    },
    {
      "cell_type": "code",
      "source": [
        "class Inception(nn.Module):\n",
        "      def __init__(self,imput: int,filters_1x1: int, filters_3x3_reduce: int,filters_3x3: int,filters_5x5_reduce: int,filters_5x5: int,filters_pool: int):\n",
        "        super().__init__()\n",
        "        \n",
        "        self.path1_1=  nn.Conv2d(imput, filters_1x1, kernel_size=1, stride=1)\n",
        "\n",
        "        self.path2_1 = nn.Conv2d(imput,filters_3x3_reduce, kernel_size=1, stride=1)\n",
        "        self.path2_2 = nn.Conv2d(filters_3x3_reduce, filters_3x3, kernel_size=3, stride=1,padding=1)\n",
        "        \n",
        "\n",
        "        self.path3_1 = nn.Conv2d(imput, filters_5x5_reduce, kernel_size=1, stride=1)\n",
        "        self.path3_2 = nn.Conv2d(filters_5x5_reduce,filters_5x5, kernel_size=5, stride=1,padding=2)\n",
        "        \n",
        "\n",
        "        self.path4_1 = nn.MaxPool2d(3, stride=1, padding=1)\n",
        "        self.path4_2 = nn.Conv2d(imput,filters_pool, kernel_size=1, stride=1)\n",
        "      \n",
        "      def forward(self, x: Tensor) -> List[Tensor]:\n",
        "          path1 = self.path1_1(x)\n",
        "          path1 = F.relu(path1)\n",
        "\n",
        "          path2 = self.path2_1(x)\n",
        "          path2 = F.relu(path2)\n",
        "\n",
        "          path2 = self.path2_2(path2)\n",
        "          path2 = F.relu(path2)\n",
        "\n",
        "          path3 = self.path3_1(x)\n",
        "          path3 = F.relu(path3)\n",
        "\n",
        "          path3 = self.path3_2(path3)\n",
        "          path3 = F.relu(path3)\n",
        "\n",
        "          path4 = self.path4_1(x)\n",
        "          path4 = self.path4_2(path4)\n",
        "          path4 = F.relu(path4)\n",
        "\n",
        "          return torch.concat([path1, path2, path3, path4], axis=1)"
      ],
      "metadata": {
        "id": "i04sHX7XrmIu"
      },
      "execution_count": null,
      "outputs": []
    },
    {
      "cell_type": "markdown",
      "source": [
        "Auxiliary Classifier"
      ],
      "metadata": {
        "id": "BsL_nXhCboWA"
      }
    },
    {
      "cell_type": "code",
      "source": [
        "class Aux(nn.Module):\n",
        "    def __init__(self,imput: int):\n",
        "        super().__init__() \n",
        "\n",
        "        self.conv = nn.Conv2d(imput, 128, kernel_size = 1, stride=1) \n",
        "        self.fc1 = nn.Linear(2048, 1024)\n",
        "        self.fc2 = nn.Linear(1024, 10)\n",
        "        self.dropout = nn.Dropout(0.7)\n",
        "\n",
        "    def forward(self, x: Tensor) -> List[Tensor]:\n",
        "        x = F.adaptive_avg_pool2d(x, (4, 4))\n",
        "        x = self.conv(x) \n",
        "        x = F.relu(x)\n",
        "        x = torch.flatten(x, 1)\n",
        "        x = self.fc1(x) \n",
        "        x = self.dropout(x)\n",
        "        x = self.fc2(x) \n",
        "\n",
        "        return x"
      ],
      "metadata": {
        "id": "xa7a6anvl3Rh"
      },
      "execution_count": null,
      "outputs": []
    },
    {
      "cell_type": "code",
      "source": [
        "class MyMnistNet(nn.Module):\n",
        "    def __init__(self, blocks: Optional[List[Callable[..., nn.Module]]] = None):\n",
        "        super().__init__()\n",
        "        blocks = [Inception,Aux]\n",
        "\n",
        "        self.conv1 = nn.Conv2d(1, 64, kernel_size=7, stride=2,padding=3) \n",
        "        self.conv2 = nn.Conv2d(64, 64, kernel_size=1, stride=1)\n",
        "        self.conv3 = nn.Conv2d(64, 192, kernel_size=3, stride=1, padding=1)\n",
        "        \n",
        "        self.avgpool = nn.AdaptiveAvgPool2d((1, 1))\n",
        "        self.dropout = nn.Dropout(0.45)\n",
        "        self.fc1 = nn.Linear(1024, 10)\n",
        "        \n",
        "        self.batchnorm = nn.BatchNorm2d(1024)\n",
        "\n",
        "        self.inception3a = Inception(192,64,96,128,16,32,32);\n",
        "        self.inception3b = Inception(256,128,128,192,32,96,64);\n",
        "\n",
        "        self.inception4a = Inception(480,192,96,208,16,48,64);\n",
        "        self.inception4b = Inception(512,160,112,224,24,64,64);\n",
        "        self.inception4c = Inception(512,128,128,256,32,64,64);\n",
        "        self.inception4d = Inception(512,112,144,288,32,64,64);\n",
        "        self.inception4e = Inception(528,256,160,320,32,128,128);\n",
        "\n",
        "        self.inception5a = Inception(832,256,160,320,32,128,128);\n",
        "        self.inception5b = Inception(832,384,192,384,48,128,128);\n",
        "\n",
        "        self.aux1 = Aux(512);\n",
        "        self.aux2 = Aux(528);\n",
        "\n",
        "        \n",
        "    def forward(self, x):\n",
        "      \n",
        "        x = self.conv1(x)  # 畳み込み層\n",
        "        x = F.relu(x)\n",
        "        \n",
        "      \n",
        "        x = nn.MaxPool2d(2)(x) # Max Pooling\n",
        "       \n",
        "        x = self.conv2(x)  # 畳み込み層\n",
        "        x = F.relu(x)\n",
        "        \n",
        "        \n",
        "        x = self.conv3(x)  # 畳み込み層\n",
        "        x = F.relu(x)\n",
        "        \n",
        "        x = nn.MaxPool2d(2)(x)  # Max Pooling\n",
        "       \n",
        "        # Inception Module 3a,3b\n",
        "        x= self.inception3a(x)  \n",
        "        x= self.inception3b(x)\n",
        "        \n",
        "        x = nn.MaxPool2d(2)(x) # Max Pooling\n",
        "        \n",
        "        # Inception Module 4a\n",
        "        x= self.inception4a(x)\n",
        "\n",
        "        # Auxiliary Classifier1\n",
        "        aux1: Optional[Tensor] = None\n",
        "        aux1= self.aux1(x)\n",
        "\n",
        "        # Inception Module 4b,4c,4d\n",
        "        x= self.inception4b(x)\n",
        "        x= self.inception4c(x)\n",
        "        x= self.inception4d(x)\n",
        "\n",
        "        # Auxiliary Classifier2\n",
        "        aux2: Optional[Tensor] = None\n",
        "        aux2= self.aux2(x)\n",
        "\n",
        "        # Inception Module 4e\n",
        "        x= self.inception4e(x)\n",
        "       \n",
        "        x = nn.MaxPool2d(2)(x) # Max Pooling\n",
        "        \n",
        "        # Inception Module 5a,5e\n",
        "        x= self.inception5a(x)\n",
        "        x= self.inception5b(x)\n",
        "  \n",
        "        x = self.batchnorm(x) #Batch Normalization\n",
        "\n",
        "        x = self.avgpool(x) # Average Pooling\n",
        "        x = torch.flatten(x, 1)\n",
        "        \n",
        "        x = self.dropout(x) # Dropout\n",
        "        \n",
        "        x = self.fc1(x)  #Linear層\n",
        "\n",
        "        return x, aux1,aux2 \n",
        "\n",
        "      # 各層の出力サイズを確認\n",
        "print( summary(MyMnistNet(), input_size=(64, 1, 56, 56)) )"
      ],
      "metadata": {
        "colab": {
          "base_uri": "https://localhost:8080/"
        },
        "id": "0Bubb52vqy3b",
        "outputId": "08615e93-b7ed-46c9-c9df-411b9329fb4e"
      },
      "execution_count": null,
      "outputs": [
        {
          "output_type": "stream",
          "name": "stdout",
          "text": [
            "==========================================================================================\n",
            "Layer (type:depth-idx)                   Output Shape              Param #\n",
            "==========================================================================================\n",
            "MyMnistNet                               --                        --\n",
            "├─Conv2d: 1-1                            [64, 64, 28, 28]          3,200\n",
            "├─Conv2d: 1-2                            [64, 64, 14, 14]          4,160\n",
            "├─Conv2d: 1-3                            [64, 192, 14, 14]         110,784\n",
            "├─Inception: 1-4                         [64, 256, 7, 7]           --\n",
            "│    └─Conv2d: 2-1                       [64, 64, 7, 7]            12,352\n",
            "│    └─Conv2d: 2-2                       [64, 96, 7, 7]            18,528\n",
            "│    └─Conv2d: 2-3                       [64, 128, 7, 7]           110,720\n",
            "│    └─Conv2d: 2-4                       [64, 16, 7, 7]            3,088\n",
            "│    └─Conv2d: 2-5                       [64, 32, 7, 7]            12,832\n",
            "│    └─MaxPool2d: 2-6                    [64, 192, 7, 7]           --\n",
            "│    └─Conv2d: 2-7                       [64, 32, 7, 7]            6,176\n",
            "├─Inception: 1-5                         [64, 480, 7, 7]           --\n",
            "│    └─Conv2d: 2-8                       [64, 128, 7, 7]           32,896\n",
            "│    └─Conv2d: 2-9                       [64, 128, 7, 7]           32,896\n",
            "│    └─Conv2d: 2-10                      [64, 192, 7, 7]           221,376\n",
            "│    └─Conv2d: 2-11                      [64, 32, 7, 7]            8,224\n",
            "│    └─Conv2d: 2-12                      [64, 96, 7, 7]            76,896\n",
            "│    └─MaxPool2d: 2-13                   [64, 256, 7, 7]           --\n",
            "│    └─Conv2d: 2-14                      [64, 64, 7, 7]            16,448\n",
            "├─Inception: 1-6                         [64, 512, 3, 3]           --\n",
            "│    └─Conv2d: 2-15                      [64, 192, 3, 3]           92,352\n",
            "│    └─Conv2d: 2-16                      [64, 96, 3, 3]            46,176\n",
            "│    └─Conv2d: 2-17                      [64, 208, 3, 3]           179,920\n",
            "│    └─Conv2d: 2-18                      [64, 16, 3, 3]            7,696\n",
            "│    └─Conv2d: 2-19                      [64, 48, 3, 3]            19,248\n",
            "│    └─MaxPool2d: 2-20                   [64, 480, 3, 3]           --\n",
            "│    └─Conv2d: 2-21                      [64, 64, 3, 3]            30,784\n",
            "├─Aux: 1-7                               [64, 10]                  --\n",
            "│    └─Conv2d: 2-22                      [64, 128, 4, 4]           65,664\n",
            "│    └─Linear: 2-23                      [64, 1024]                2,098,176\n",
            "│    └─Dropout: 2-24                     [64, 1024]                --\n",
            "│    └─Linear: 2-25                      [64, 10]                  10,250\n",
            "├─Inception: 1-8                         [64, 512, 3, 3]           --\n",
            "│    └─Conv2d: 2-26                      [64, 160, 3, 3]           82,080\n",
            "│    └─Conv2d: 2-27                      [64, 112, 3, 3]           57,456\n",
            "│    └─Conv2d: 2-28                      [64, 224, 3, 3]           226,016\n",
            "│    └─Conv2d: 2-29                      [64, 24, 3, 3]            12,312\n",
            "│    └─Conv2d: 2-30                      [64, 64, 3, 3]            38,464\n",
            "│    └─MaxPool2d: 2-31                   [64, 512, 3, 3]           --\n",
            "│    └─Conv2d: 2-32                      [64, 64, 3, 3]            32,832\n",
            "├─Inception: 1-9                         [64, 512, 3, 3]           --\n",
            "│    └─Conv2d: 2-33                      [64, 128, 3, 3]           65,664\n",
            "│    └─Conv2d: 2-34                      [64, 128, 3, 3]           65,664\n",
            "│    └─Conv2d: 2-35                      [64, 256, 3, 3]           295,168\n",
            "│    └─Conv2d: 2-36                      [64, 32, 3, 3]            16,416\n",
            "│    └─Conv2d: 2-37                      [64, 64, 3, 3]            51,264\n",
            "│    └─MaxPool2d: 2-38                   [64, 512, 3, 3]           --\n",
            "│    └─Conv2d: 2-39                      [64, 64, 3, 3]            32,832\n",
            "├─Inception: 1-10                        [64, 528, 3, 3]           --\n",
            "│    └─Conv2d: 2-40                      [64, 112, 3, 3]           57,456\n",
            "│    └─Conv2d: 2-41                      [64, 144, 3, 3]           73,872\n",
            "│    └─Conv2d: 2-42                      [64, 288, 3, 3]           373,536\n",
            "│    └─Conv2d: 2-43                      [64, 32, 3, 3]            16,416\n",
            "│    └─Conv2d: 2-44                      [64, 64, 3, 3]            51,264\n",
            "│    └─MaxPool2d: 2-45                   [64, 512, 3, 3]           --\n",
            "│    └─Conv2d: 2-46                      [64, 64, 3, 3]            32,832\n",
            "├─Aux: 1-11                              [64, 10]                  --\n",
            "│    └─Conv2d: 2-47                      [64, 128, 4, 4]           67,712\n",
            "│    └─Linear: 2-48                      [64, 1024]                2,098,176\n",
            "│    └─Dropout: 2-49                     [64, 1024]                --\n",
            "│    └─Linear: 2-50                      [64, 10]                  10,250\n",
            "├─Inception: 1-12                        [64, 832, 3, 3]           --\n",
            "│    └─Conv2d: 2-51                      [64, 256, 3, 3]           135,424\n",
            "│    └─Conv2d: 2-52                      [64, 160, 3, 3]           84,640\n",
            "│    └─Conv2d: 2-53                      [64, 320, 3, 3]           461,120\n",
            "│    └─Conv2d: 2-54                      [64, 32, 3, 3]            16,928\n",
            "│    └─Conv2d: 2-55                      [64, 128, 3, 3]           102,528\n",
            "│    └─MaxPool2d: 2-56                   [64, 528, 3, 3]           --\n",
            "│    └─Conv2d: 2-57                      [64, 128, 3, 3]           67,712\n",
            "├─Inception: 1-13                        [64, 832, 1, 1]           --\n",
            "│    └─Conv2d: 2-58                      [64, 256, 1, 1]           213,248\n",
            "│    └─Conv2d: 2-59                      [64, 160, 1, 1]           133,280\n",
            "│    └─Conv2d: 2-60                      [64, 320, 1, 1]           461,120\n",
            "│    └─Conv2d: 2-61                      [64, 32, 1, 1]            26,656\n",
            "│    └─Conv2d: 2-62                      [64, 128, 1, 1]           102,528\n",
            "│    └─MaxPool2d: 2-63                   [64, 832, 1, 1]           --\n",
            "│    └─Conv2d: 2-64                      [64, 128, 1, 1]           106,624\n",
            "├─Inception: 1-14                        [64, 1024, 1, 1]          --\n",
            "│    └─Conv2d: 2-65                      [64, 384, 1, 1]           319,872\n",
            "│    └─Conv2d: 2-66                      [64, 192, 1, 1]           159,936\n",
            "│    └─Conv2d: 2-67                      [64, 384, 1, 1]           663,936\n",
            "│    └─Conv2d: 2-68                      [64, 48, 1, 1]            39,984\n",
            "│    └─Conv2d: 2-69                      [64, 128, 1, 1]           153,728\n",
            "│    └─MaxPool2d: 2-70                   [64, 832, 1, 1]           --\n",
            "│    └─Conv2d: 2-71                      [64, 128, 1, 1]           106,624\n",
            "├─BatchNorm2d: 1-15                      [64, 1024, 1, 1]          2,048\n",
            "├─AdaptiveAvgPool2d: 1-16                [64, 1024, 1, 1]          --\n",
            "├─Dropout: 1-17                          [64, 1024]                --\n",
            "├─Linear: 1-18                           [64, 10]                  10,250\n",
            "==========================================================================================\n",
            "Total params: 10,346,710\n",
            "Trainable params: 10,346,710\n",
            "Non-trainable params: 0\n",
            "Total mult-adds (G): 5.53\n",
            "==========================================================================================\n",
            "Input size (MB): 0.80\n",
            "Forward/backward pass size (MB): 98.45\n",
            "Params size (MB): 41.39\n",
            "Estimated Total Size (MB): 140.64\n",
            "==========================================================================================\n"
          ]
        }
      ]
    },
    {
      "cell_type": "markdown",
      "metadata": {
        "id": "9IB3BsJ_9Xf5"
      },
      "source": [
        "# 学習とテスト\n"
      ]
    },
    {
      "cell_type": "code",
      "metadata": {
        "id": "K5q9L7BZ-qQZ",
        "colab": {
          "base_uri": "https://localhost:8080/"
        },
        "outputId": "f976a46d-2d22-4e75-930f-f8c6848bfd02"
      },
      "source": [
        "def train(model, device, train_loader, optimizer, epoch):\n",
        "    model.train()\n",
        "    out = 0\n",
        "    for batch_idx, (x, y) in enumerate(train_loader):\n",
        "        x = x.to(device)\n",
        "        y = y.to(device)\n",
        "        p_y_hat = model(x)[0]\n",
        "        p_y_aux1 = model(x)[1]\n",
        "        p_y_aux2 = model(x)[2]\n",
        "\n",
        "        loss = F.cross_entropy(p_y_aux1*0.3+p_y_aux2*0.3+p_y_hat, y)  #loss = aux1 の損失 * 0.3 + aux2 の損失 * 0.3 + 最後の出力層の損失\n",
        "\n",
        "        optimizer.zero_grad()\n",
        "        loss.backward()  # 勾配計算\n",
        "        optimizer.step()  # パラメータ更新\n",
        "        if batch_idx  % 100 == 0:\n",
        "            print(f\"Epoch={epoch+1}, Batch={batch_idx+1:03}, Loss={loss.item():.4f}\")\n",
        "            out = loss.item()\n",
        "    return out\n",
        "\n",
        "def test(model, device, test_loader):\n",
        "    model.eval()\n",
        "    correct = 0\n",
        "    for x, y in test_loader:\n",
        "      x = x.to(device)\n",
        "      y = y.to(device)\n",
        "      p_y_hat = model(x)[0]\n",
        "\n",
        "      y_hat = p_y_hat.argmax(dim=1, keepdim=True) \n",
        "      correct += y_hat.eq(y.view_as(y_hat)).sum().item()\n",
        "\n",
        "    accuracy = correct / len(test_loader.dataset)\n",
        "    print(f\"Test-set accuracy={accuracy :.04f}\\n\")\n",
        "    return accuracy\n",
        "\n",
        "def main():\n",
        "    device = torch.device(\"cuda\" if torch.cuda.is_available() else \"cpu\")\n",
        "    model = MyMnistNet().to(device)\n",
        "    optimizer = torch.optim.Adam(model.parameters(), lr=0.001)\n",
        "\n",
        "    for epoch in range(14):\n",
        "        train(model, device, train_loader, optimizer, epoch)\n",
        "        test(model, device, test_loader)\n",
        "\n",
        "main()\n"
      ],
      "execution_count": null,
      "outputs": [
        {
          "output_type": "stream",
          "name": "stderr",
          "text": [
            "/usr/local/lib/python3.7/dist-packages/torch/utils/data/dataloader.py:481: UserWarning: This DataLoader will create 4 worker processes in total. Our suggested max number of worker in current system is 2, which is smaller than what this DataLoader is going to create. Please be aware that excessive worker creation might get DataLoader running slow or even freeze, lower the worker number to avoid potential slowness/freeze if necessary.\n",
            "  cpuset_checked))\n"
          ]
        },
        {
          "output_type": "stream",
          "name": "stdout",
          "text": [
            "Epoch=1, Batch=001, Loss=2.3044\n",
            "Epoch=1, Batch=101, Loss=0.6750\n",
            "Epoch=1, Batch=201, Loss=0.4064\n",
            "Test-set accuracy=0.7237\n",
            "\n",
            "Epoch=2, Batch=001, Loss=0.3869\n",
            "Epoch=2, Batch=101, Loss=0.4241\n",
            "Epoch=2, Batch=201, Loss=0.2854\n",
            "Test-set accuracy=0.8615\n",
            "\n",
            "Epoch=3, Batch=001, Loss=0.3027\n",
            "Epoch=3, Batch=101, Loss=0.2897\n",
            "Epoch=3, Batch=201, Loss=0.3193\n",
            "Test-set accuracy=0.8749\n",
            "\n",
            "Epoch=4, Batch=001, Loss=0.2830\n",
            "Epoch=4, Batch=101, Loss=0.2614\n",
            "Epoch=4, Batch=201, Loss=0.2974\n",
            "Test-set accuracy=0.8482\n",
            "\n",
            "Epoch=5, Batch=001, Loss=0.2185\n",
            "Epoch=5, Batch=101, Loss=0.2511\n",
            "Epoch=5, Batch=201, Loss=0.1936\n",
            "Test-set accuracy=0.8495\n",
            "\n",
            "Epoch=6, Batch=001, Loss=0.1921\n",
            "Epoch=6, Batch=101, Loss=0.2050\n",
            "Epoch=6, Batch=201, Loss=0.2116\n",
            "Test-set accuracy=0.9028\n",
            "\n",
            "Epoch=7, Batch=001, Loss=0.1908\n",
            "Epoch=7, Batch=101, Loss=0.1721\n",
            "Epoch=7, Batch=201, Loss=0.2046\n",
            "Test-set accuracy=0.9087\n",
            "\n",
            "Epoch=8, Batch=001, Loss=0.2171\n",
            "Epoch=8, Batch=101, Loss=0.2203\n",
            "Epoch=8, Batch=201, Loss=0.1820\n",
            "Test-set accuracy=0.8994\n",
            "\n",
            "Epoch=9, Batch=001, Loss=0.1655\n",
            "Epoch=9, Batch=101, Loss=0.2139\n",
            "Epoch=9, Batch=201, Loss=0.1437\n",
            "Test-set accuracy=0.8840\n",
            "\n",
            "Epoch=10, Batch=001, Loss=0.1431\n",
            "Epoch=10, Batch=101, Loss=0.1790\n",
            "Epoch=10, Batch=201, Loss=0.1318\n",
            "Test-set accuracy=0.8954\n",
            "\n",
            "Epoch=11, Batch=001, Loss=0.1236\n",
            "Epoch=11, Batch=101, Loss=0.1796\n",
            "Epoch=11, Batch=201, Loss=0.2066\n",
            "Test-set accuracy=0.9062\n",
            "\n",
            "Epoch=12, Batch=001, Loss=0.0961\n",
            "Epoch=12, Batch=101, Loss=0.0906\n",
            "Epoch=12, Batch=201, Loss=0.1740\n",
            "Test-set accuracy=0.9011\n",
            "\n",
            "Epoch=13, Batch=001, Loss=0.1378\n",
            "Epoch=13, Batch=101, Loss=0.1099\n",
            "Epoch=13, Batch=201, Loss=0.1408\n",
            "Test-set accuracy=0.9019\n",
            "\n",
            "Epoch=14, Batch=001, Loss=0.1355\n",
            "Epoch=14, Batch=101, Loss=0.1206\n",
            "Epoch=14, Batch=201, Loss=0.1032\n",
            "Test-set accuracy=0.9143\n",
            "\n"
          ]
        }
      ]
    }
  ]
}